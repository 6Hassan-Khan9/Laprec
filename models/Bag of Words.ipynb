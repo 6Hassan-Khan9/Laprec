{
  "nbformat": 4,
  "nbformat_minor": 0,
  "metadata": {
    "colab": {
      "provenance": []
    },
    "kernelspec": {
      "name": "python3",
      "display_name": "Python 3"
    },
    "language_info": {
      "name": "python"
    }
  },
  "cells": [
    {
      "cell_type": "code",
      "execution_count": null,
      "metadata": {
        "id": "bR_Ty1lOjoJy"
      },
      "outputs": [],
      "source": [
        "import pandas as pd\n",
        "import numpy as np"
      ]
    },
    {
      "cell_type": "code",
      "source": [
        "pd.set_option('display.max_colwidth', None)"
      ],
      "metadata": {
        "id": "Wq2B83LQzcYB"
      },
      "execution_count": null,
      "outputs": []
    },
    {
      "cell_type": "markdown",
      "source": [
        "> Preprocessing\n",
        "\n",
        "# Key Points\n",
        "\n",
        "1. Tags include:\n",
        "  - brand\n",
        "  - processor_brand           \n",
        "  - processor_tier            \n",
        "  - num_cores                   \n",
        "  - ram_memory                  \n",
        "  - primary_storage_type      \n",
        "  - primary_storage_capacity    \n",
        "  - gpu_brand                 \n",
        "  - gpu_type                  \n",
        "  - display_size   \n",
        "2. Price will be used as a filter for the initial preprocessing and will be excluded from the tags. Will add in later stages.        "
      ],
      "metadata": {
        "id": "RpsfOoZgwlFg"
      }
    },
    {
      "cell_type": "code",
      "source": [
        "laptops = pd.read_csv(\"data-cleaned.csv\")"
      ],
      "metadata": {
        "id": "52RPnPOkpPh0"
      },
      "execution_count": null,
      "outputs": []
    },
    {
      "cell_type": "code",
      "source": [
        "laptops.rename(columns={\"Model\": \"model\", \"Price\": \"price\", \"Rating\": \"rating\"}, inplace=True)"
      ],
      "metadata": {
        "id": "StZfsto7BAbo"
      },
      "execution_count": null,
      "outputs": []
    },
    {
      "cell_type": "code",
      "source": [
        "laptops.drop(columns=[\"secondary_storage_type\"], inplace=True)"
      ],
      "metadata": {
        "id": "062p6BJHBAZi"
      },
      "execution_count": null,
      "outputs": []
    },
    {
      "cell_type": "code",
      "source": [
        "laptops.sort_values(by=[\"rating\"], ascending=[False], inplace=True)"
      ],
      "metadata": {
        "id": "YpSZKHakBAXI"
      },
      "execution_count": null,
      "outputs": []
    },
    {
      "cell_type": "code",
      "source": [
        "laptops = laptops.astype(str)"
      ],
      "metadata": {
        "id": "JMTUn9T0_ole"
      },
      "execution_count": null,
      "outputs": []
    },
    {
      "cell_type": "code",
      "source": [
        "laptops[\"num_cores\"] = laptops[\"num_cores\"].apply(lambda x: x+\"cores\")"
      ],
      "metadata": {
        "id": "3p95RzcYVsfq"
      },
      "execution_count": null,
      "outputs": []
    },
    {
      "cell_type": "code",
      "source": [
        "laptops[\"ram_memory\"] = laptops[\"ram_memory\"].apply(lambda x: x+\"GB-RAM\")"
      ],
      "metadata": {
        "id": "WDpVtUTZaqVw"
      },
      "execution_count": null,
      "outputs": []
    },
    {
      "cell_type": "code",
      "source": [
        "laptops[\"primary_storage_capacity\"] = laptops[\"primary_storage_capacity\"].apply(lambda x: x+\"GB\")"
      ],
      "metadata": {
        "id": "BDl2QVWHaqKo"
      },
      "execution_count": null,
      "outputs": []
    },
    {
      "cell_type": "code",
      "source": [
        "laptops[\"display_size\"] = laptops[\"display_size\"].apply(lambda x: x+\"''\")"
      ],
      "metadata": {
        "id": "oLcxhAfja4ZF"
      },
      "execution_count": null,
      "outputs": []
    },
    {
      "cell_type": "code",
      "source": [
        "laptops[\"tags\"] = laptops[[\"brand\", \"processor_brand\", \"processor_tier\", \"num_cores\", \"ram_memory\", \"primary_storage_type\",\n",
        "                           \"primary_storage_capacity\", \"gpu_brand\", \"gpu_type\", \"display_size\"]].apply(lambda x: ' '.join(x), axis = 1)"
      ],
      "metadata": {
        "id": "jT_sFPoDBPu7"
      },
      "execution_count": null,
      "outputs": []
    },
    {
      "cell_type": "code",
      "source": [
        "laptops[\"id\"] = laptops.index"
      ],
      "metadata": {
        "id": "HijYXhRFBPkz"
      },
      "execution_count": null,
      "outputs": []
    },
    {
      "cell_type": "code",
      "source": [
        "new = laptops[[\"id\", \"model\", \"tags\"]]\n",
        "new.index = range(len(new))"
      ],
      "metadata": {
        "id": "M8FAT8jw_5Dm"
      },
      "execution_count": null,
      "outputs": []
    },
    {
      "cell_type": "markdown",
      "source": [
        "> Vectorization (Bag of Words)"
      ],
      "metadata": {
        "id": "okH-gES_3Egh"
      }
    },
    {
      "cell_type": "code",
      "source": [
        "from sklearn.feature_extraction.text import CountVectorizer\n",
        "cv = CountVectorizer(max_features=5000,stop_words='english')"
      ],
      "metadata": {
        "id": "suF-ecc1Akbc"
      },
      "execution_count": null,
      "outputs": []
    },
    {
      "cell_type": "code",
      "source": [
        "vector = cv.fit_transform(new[\"tags\"]).toarray()"
      ],
      "metadata": {
        "id": "vl8A9sBQAuBr"
      },
      "execution_count": null,
      "outputs": []
    },
    {
      "cell_type": "code",
      "source": [
        "vector.shape"
      ],
      "metadata": {
        "colab": {
          "base_uri": "https://localhost:8080/"
        },
        "id": "eMnWMxSjBYjb",
        "outputId": "7e0f7682-0e74-49c4-eefb-4a602bc3b8ce"
      },
      "execution_count": null,
      "outputs": [
        {
          "output_type": "execute_result",
          "data": {
            "text/plain": [
              "(991, 81)"
            ]
          },
          "metadata": {},
          "execution_count": 86
        }
      ]
    },
    {
      "cell_type": "code",
      "source": [
        "from sklearn.metrics.pairwise import cosine_similarity"
      ],
      "metadata": {
        "id": "odA9s-jNA7dF"
      },
      "execution_count": null,
      "outputs": []
    },
    {
      "cell_type": "code",
      "source": [
        "similarity = cosine_similarity(vector)"
      ],
      "metadata": {
        "id": "4pyXFEMnBcoy"
      },
      "execution_count": null,
      "outputs": []
    },
    {
      "cell_type": "code",
      "source": [
        "similarity"
      ],
      "metadata": {
        "colab": {
          "base_uri": "https://localhost:8080/"
        },
        "id": "qoyWFdrSBeXD",
        "outputId": "748ac83f-8f17-4eb0-bb22-4e99aee51959"
      },
      "execution_count": null,
      "outputs": [
        {
          "output_type": "execute_result",
          "data": {
            "text/plain": [
              "array([[1.        , 0.52223297, 0.52223297, ..., 0.09622504, 0.09622504,\n",
              "        0.09622504],\n",
              "       [0.52223297, 1.        , 0.63636364, ..., 0.10050378, 0.10050378,\n",
              "        0.10050378],\n",
              "       [0.52223297, 0.63636364, 1.        , ..., 0.20100756, 0.20100756,\n",
              "        0.20100756],\n",
              "       ...,\n",
              "       [0.09622504, 0.10050378, 0.20100756, ..., 1.        , 1.        ,\n",
              "        0.88888889],\n",
              "       [0.09622504, 0.10050378, 0.20100756, ..., 1.        , 1.        ,\n",
              "        0.88888889],\n",
              "       [0.09622504, 0.10050378, 0.20100756, ..., 0.88888889, 0.88888889,\n",
              "        1.        ]])"
            ]
          },
          "metadata": {},
          "execution_count": 89
        }
      ]
    },
    {
      "cell_type": "markdown",
      "source": [
        "> Vectorization (TF-IDF)"
      ],
      "metadata": {
        "id": "XO0g3r4y--G7"
      }
    },
    {
      "cell_type": "code",
      "source": [
        "from sklearn.feature_extraction.text import TfidfVectorizer\n",
        "tfidf = TfidfVectorizer(max_features=5000,stop_words='english')"
      ],
      "metadata": {
        "id": "zAf_kVUt_EzP"
      },
      "execution_count": 102,
      "outputs": []
    },
    {
      "cell_type": "code",
      "source": [
        "matrix = tfidf.fit_transform(new[\"tags\"])"
      ],
      "metadata": {
        "id": "P9h99hBBE-Zr"
      },
      "execution_count": 113,
      "outputs": []
    },
    {
      "cell_type": "code",
      "source": [
        "matrix.shape"
      ],
      "metadata": {
        "colab": {
          "base_uri": "https://localhost:8080/"
        },
        "id": "Q9FeFjldGEt6",
        "outputId": "1d02cd0e-1b41-4698-8217-ee9887b2b01c"
      },
      "execution_count": 120,
      "outputs": [
        {
          "output_type": "execute_result",
          "data": {
            "text/plain": [
              "(991, 81)"
            ]
          },
          "metadata": {},
          "execution_count": 120
        }
      ]
    },
    {
      "cell_type": "code",
      "source": [
        "from sklearn.metrics.pairwise import linear_kernel\n",
        "# from sklearn.metrics.pairwise import sigmoid_kernel"
      ],
      "metadata": {
        "id": "0LdVEerlFwYZ"
      },
      "execution_count": 115,
      "outputs": []
    },
    {
      "cell_type": "code",
      "source": [
        "similarity = linear_kernel(matrix, matrix)\n",
        "# similarity = sigmoid_kernel(matrix, matrix)"
      ],
      "metadata": {
        "id": "RLS2FxdGGOo6"
      },
      "execution_count": 116,
      "outputs": []
    },
    {
      "cell_type": "code",
      "source": [
        "similarity"
      ],
      "metadata": {
        "colab": {
          "base_uri": "https://localhost:8080/"
        },
        "id": "6s_fgQUvGOdh",
        "outputId": "6edae956-3df4-4c6f-a43a-0d649cb496b4"
      },
      "execution_count": 117,
      "outputs": [
        {
          "output_type": "execute_result",
          "data": {
            "text/plain": [
              "array([[1.        , 0.36417391, 0.43270721, ..., 0.00701301, 0.00701301,\n",
              "        0.00691731],\n",
              "       [0.36417391, 1.        , 0.48086605, ..., 0.00694693, 0.00694693,\n",
              "        0.00685213],\n",
              "       [0.43270721, 0.48086605, 1.        , ..., 0.07159633, 0.07159633,\n",
              "        0.07061928],\n",
              "       ...,\n",
              "       [0.00701301, 0.00694693, 0.07159633, ..., 1.        , 1.        ,\n",
              "        0.76253782],\n",
              "       [0.00701301, 0.00694693, 0.07159633, ..., 1.        , 1.        ,\n",
              "        0.76253782],\n",
              "       [0.00691731, 0.00685213, 0.07061928, ..., 0.76253782, 0.76253782,\n",
              "        1.        ]])"
            ]
          },
          "metadata": {},
          "execution_count": 117
        }
      ]
    },
    {
      "cell_type": "markdown",
      "source": [
        "> Recommendation"
      ],
      "metadata": {
        "id": "vC6QkqoMIb6i"
      }
    },
    {
      "cell_type": "code",
      "source": [
        "def recommend(tags):\n",
        "  new_df = new.copy()\n",
        "  for tag in tags:\n",
        "    filt = new_df[\"tags\"].str.contains(tag)\n",
        "    new_df = new_df[filt]\n",
        "  index = new_df[new_df[\"model\"] == new_df[\"model\"].values[0]].index[0]\n",
        "  distances = sorted(list(enumerate(similarity[index])),reverse=True,key = lambda x: x[1])\n",
        "  for i in distances[1:6]:\n",
        "    print(new.iloc[i[0]].model)\n",
        "\n",
        "recommend([\"lenovo\"])"
      ],
      "metadata": {
        "id": "NNfbeeuVKp0M",
        "colab": {
          "base_uri": "https://localhost:8080/"
        },
        "outputId": "d7e6deb9-df01-4060-f635-ad47caa555bc"
      },
      "execution_count": 118,
      "outputs": [
        {
          "output_type": "stream",
          "name": "stdout",
          "text": [
            "Asus Vivobook Pro 16 OLED 2023 K6602VU-LZ952WS Laptop (13th Gen Core i9/ 16GB/ 1TB SSD/ Win11/ 6GB Graph)\n",
            "Asus Vivobook 16X 2023 K3605VC-MB951WS Laptop (13th Gen Core i9/ 16GB/ 1TB SSD/ Win11 Home/ 4GB Graph)\n",
            "Asus Vivobook Pro 15 OLED K6502VU-MA951WS Laptop (13th Gen Core i9/ 16GB/ 1TB SSD/ Win11 Home/ 6GB Graph)\n",
            "Asus TUF Gaming F15 2023 FX507VV-LP071WS Gaming Laptop (13th Gen Core i9/ 16GB/1TB SSD/ Win11 Home/ 8GB Graph)\n",
            "Asus Vivobook 16 2023 X1605VA-MB957WS Laptop (13th Gen Core i9/ 16GB/ 1TB SSD/ Win11 Home)\n"
          ]
        }
      ]
    },
    {
      "cell_type": "markdown",
      "source": [
        "> Testing"
      ],
      "metadata": {
        "id": "cLLK-NmwJI9D"
      }
    },
    {
      "cell_type": "code",
      "source": [
        "# tags = []"
      ],
      "metadata": {
        "id": "ft_d6kIvBD_9"
      },
      "execution_count": null,
      "outputs": []
    },
    {
      "cell_type": "code",
      "source": [
        "tagNames = [\n",
        "    \"brand\",\n",
        "    \"processor_brand\",\n",
        "    \"processor_tier\",\n",
        "    \"num_cores\",\n",
        "    \"ram_memory\",\n",
        "    \"primary_storage_type\",\n",
        "    \"primary_storage_capacity\",\n",
        "    \"gpu_brand\",\n",
        "    \"gpu_type\",\n",
        "    \"display_size\"\n",
        "]"
      ],
      "metadata": {
        "id": "mbo8aGE_KdeF"
      },
      "execution_count": null,
      "outputs": []
    },
    {
      "cell_type": "code",
      "source": [
        "# for i in range(10):\n",
        "#   tags.append(input(\"Enter \" + tagNames[i] + \": \").strip())"
      ],
      "metadata": {
        "id": "VnA1WGEqPVvH"
      },
      "execution_count": null,
      "outputs": []
    },
    {
      "cell_type": "code",
      "source": [
        "# tags = list(filter(lambda x: bool(len(x)), list(pd.unique(tags))))"
      ],
      "metadata": {
        "id": "_SE2T8cRPYOb"
      },
      "execution_count": null,
      "outputs": []
    },
    {
      "cell_type": "code",
      "source": [
        "# recommend(tags)"
      ],
      "metadata": {
        "id": "xccN-7b8PZNr"
      },
      "execution_count": null,
      "outputs": []
    },
    {
      "cell_type": "markdown",
      "source": [
        "> Generating Unique Tags for Front-end Search"
      ],
      "metadata": {
        "id": "cX8XuGus_RAD"
      }
    },
    {
      "cell_type": "code",
      "source": [
        "# for tag in tagNames:\n",
        "#   with open(tag + \".txt\", \"w\") as f:\n",
        "#     f.write(\"\\n\".join(laptops[tag].unique().tolist()))"
      ],
      "metadata": {
        "id": "g3pFA1Vq6iFl"
      },
      "execution_count": null,
      "outputs": []
    }
  ]
}