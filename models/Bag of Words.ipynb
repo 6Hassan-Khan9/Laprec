{
  "nbformat": 4,
  "nbformat_minor": 0,
  "metadata": {
    "colab": {
      "provenance": []
    },
    "kernelspec": {
      "name": "python3",
      "display_name": "Python 3"
    },
    "language_info": {
      "name": "python"
    }
  },
  "cells": [
    {
      "cell_type": "code",
      "execution_count": 63,
      "metadata": {
        "id": "bR_Ty1lOjoJy"
      },
      "outputs": [],
      "source": [
        "import pandas as pd\n",
        "import numpy as np"
      ]
    },
    {
      "cell_type": "code",
      "source": [
        "pd.set_option('display.max_colwidth', None)"
      ],
      "metadata": {
        "id": "Wq2B83LQzcYB"
      },
      "execution_count": 64,
      "outputs": []
    },
    {
      "cell_type": "markdown",
      "source": [
        "> Preprocessing\n",
        "\n",
        "# Key Points\n",
        "\n",
        "1. Tags include:\n",
        "  - brand\n",
        "  - processor_brand           \n",
        "  - processor_tier            \n",
        "  - num_cores                   \n",
        "  - ram_memory                  \n",
        "  - primary_storage_type      \n",
        "  - primary_storage_capacity    \n",
        "  - gpu_brand                 \n",
        "  - gpu_type                  \n",
        "  - display_size   \n",
        "2. Price will be used as a filter for the initial preprocessing and will be excluded from the tags. Will add in later stages.        "
      ],
      "metadata": {
        "id": "RpsfOoZgwlFg"
      }
    },
    {
      "cell_type": "code",
      "source": [
        "laptops = pd.read_csv(\"data-cleaned.csv\")"
      ],
      "metadata": {
        "id": "52RPnPOkpPh0"
      },
      "execution_count": 65,
      "outputs": []
    },
    {
      "cell_type": "code",
      "source": [
        "laptops.rename(columns={\"Model\": \"model\", \"Price\": \"price\", \"Rating\": \"rating\"}, inplace=True)\n"
      ],
      "metadata": {
        "id": "StZfsto7BAbo"
      },
      "execution_count": 66,
      "outputs": []
    },
    {
      "cell_type": "code",
      "source": [
        "laptops.drop(columns=[\"secondary_storage_type\"], inplace=True)\n"
      ],
      "metadata": {
        "id": "062p6BJHBAZi"
      },
      "execution_count": 67,
      "outputs": []
    },
    {
      "cell_type": "code",
      "source": [
        "laptops.sort_values(by=[\"rating\", \"price\"], ascending=[False, True], inplace=True)"
      ],
      "metadata": {
        "id": "YpSZKHakBAXI"
      },
      "execution_count": 68,
      "outputs": []
    },
    {
      "cell_type": "code",
      "source": [
        "laptops = laptops.astype(str)"
      ],
      "metadata": {
        "id": "JMTUn9T0_ole"
      },
      "execution_count": 69,
      "outputs": []
    },
    {
      "cell_type": "code",
      "source": [
        "laptops[\"tags\"] = laptops[[\"brand\", \"processor_brand\", \"processor_tier\", \"num_cores\", \"ram_memory\", \"primary_storage_type\",\n",
        "                           \"primary_storage_capacity\", \"gpu_brand\", \"gpu_type\", \"display_size\"]].apply(lambda x: ' '.join(x), axis = 1)"
      ],
      "metadata": {
        "id": "jT_sFPoDBPu7"
      },
      "execution_count": 70,
      "outputs": []
    },
    {
      "cell_type": "code",
      "source": [
        "laptops[\"id\"] = laptops.index"
      ],
      "metadata": {
        "id": "HijYXhRFBPkz"
      },
      "execution_count": 71,
      "outputs": []
    },
    {
      "cell_type": "code",
      "source": [
        "new = laptops[[\"id\", \"model\", \"tags\"]]\n",
        "new.index = range(len(new))"
      ],
      "metadata": {
        "id": "M8FAT8jw_5Dm"
      },
      "execution_count": 72,
      "outputs": []
    },
    {
      "cell_type": "markdown",
      "source": [
        "> Vectorization"
      ],
      "metadata": {
        "id": "okH-gES_3Egh"
      }
    },
    {
      "cell_type": "code",
      "source": [
        "from sklearn.feature_extraction.text import CountVectorizer\n",
        "cv = CountVectorizer(max_features=5000,stop_words='english')"
      ],
      "metadata": {
        "id": "suF-ecc1Akbc"
      },
      "execution_count": 73,
      "outputs": []
    },
    {
      "cell_type": "code",
      "source": [
        "vector = cv.fit_transform(new[\"tags\"]).toarray()"
      ],
      "metadata": {
        "id": "vl8A9sBQAuBr"
      },
      "execution_count": 74,
      "outputs": []
    },
    {
      "cell_type": "code",
      "source": [
        "vector.shape"
      ],
      "metadata": {
        "colab": {
          "base_uri": "https://localhost:8080/"
        },
        "id": "eMnWMxSjBYjb",
        "outputId": "910a87b2-f29e-45c8-c318-817585353aec"
      },
      "execution_count": 75,
      "outputs": [
        {
          "output_type": "execute_result",
          "data": {
            "text/plain": [
              "(991, 65)"
            ]
          },
          "metadata": {},
          "execution_count": 75
        }
      ]
    },
    {
      "cell_type": "code",
      "source": [
        "from sklearn.metrics.pairwise import cosine_similarity"
      ],
      "metadata": {
        "id": "odA9s-jNA7dF"
      },
      "execution_count": 76,
      "outputs": []
    },
    {
      "cell_type": "code",
      "source": [
        "similarity = cosine_similarity(vector)"
      ],
      "metadata": {
        "id": "4pyXFEMnBcoy"
      },
      "execution_count": 77,
      "outputs": []
    },
    {
      "cell_type": "code",
      "source": [
        "similarity"
      ],
      "metadata": {
        "colab": {
          "base_uri": "https://localhost:8080/"
        },
        "id": "qoyWFdrSBeXD",
        "outputId": "bd89ebeb-d74a-4597-87cf-3d46ade3a025"
      },
      "execution_count": 78,
      "outputs": [
        {
          "output_type": "execute_result",
          "data": {
            "text/plain": [
              "array([[1.        , 0.46225016, 0.83624201, ..., 0.        , 0.        ,\n",
              "        0.        ],\n",
              "       [0.46225016, 1.        , 0.70352647, ..., 0.        , 0.        ,\n",
              "        0.        ],\n",
              "       [0.83624201, 0.70352647, 1.        , ..., 0.        , 0.        ,\n",
              "        0.        ],\n",
              "       ...,\n",
              "       [0.        , 0.        , 0.        , ..., 1.        , 1.        ,\n",
              "        0.83333333],\n",
              "       [0.        , 0.        , 0.        , ..., 1.        , 1.        ,\n",
              "        0.83333333],\n",
              "       [0.        , 0.        , 0.        , ..., 0.83333333, 0.83333333,\n",
              "        1.        ]])"
            ]
          },
          "metadata": {},
          "execution_count": 78
        }
      ]
    },
    {
      "cell_type": "code",
      "source": [
        "def recommend(tags):\n",
        "  new_df = new.copy()\n",
        "  for tag in tags:\n",
        "    filt = new_df[\"tags\"].str.contains(tag)\n",
        "    new_df = new_df[filt]\n",
        "  index = new_df[new_df[\"model\"] == new_df[\"model\"].values[0]].index[0]\n",
        "  distances = sorted(list(enumerate(similarity[index])),reverse=True,key = lambda x: x[1])\n",
        "  for i in distances[1:6]:\n",
        "    print(new.iloc[i[0]].model)\n",
        "\n",
        "# recommend([\"asus\", \"intel\" , \"core i9\", \"14\"])"
      ],
      "metadata": {
        "id": "NNfbeeuVKp0M"
      },
      "execution_count": 83,
      "outputs": []
    },
    {
      "cell_type": "markdown",
      "source": [
        "> Testing"
      ],
      "metadata": {
        "id": "cLLK-NmwJI9D"
      }
    },
    {
      "cell_type": "code",
      "source": [
        "# tags = []"
      ],
      "metadata": {
        "id": "ft_d6kIvBD_9"
      },
      "execution_count": null,
      "outputs": []
    },
    {
      "cell_type": "code",
      "source": [
        "tagNames = [\n",
        "    \"brand\",\n",
        "    \"processor_brand\",\n",
        "    \"processor_tier\",\n",
        "    \"num_cores\",\n",
        "    \"ram_memory\",\n",
        "    \"primary_storage_type\",\n",
        "    \"primary_storage_capacity\",\n",
        "    \"gpu_brand\",\n",
        "    \"gpu_type\",\n",
        "    \"display_size\"\n",
        "]\n",
        "\n",
        "# for i in range(10):\n",
        "#   tags.append(input(\"Enter \" + tagNames[i] + \": \").strip())\n",
        "# tags = list(filter(lambda x: bool(len(x)), list(pd.unique(tags))))\n",
        "# recommend(tags)"
      ],
      "metadata": {
        "id": "mbo8aGE_KdeF"
      },
      "execution_count": 88,
      "outputs": []
    },
    {
      "cell_type": "markdown",
      "source": [
        "> Generating Unique Tags for Front-end Search"
      ],
      "metadata": {
        "id": "cX8XuGus_RAD"
      }
    },
    {
      "cell_type": "code",
      "source": [
        "for tag in tagNames:\n",
        "  with open(tag + \".txt\", \"w\") as f:\n",
        "    f.write(\"\\n\".join(laptops[tag].unique().tolist()))"
      ],
      "metadata": {
        "id": "g3pFA1Vq6iFl"
      },
      "execution_count": 87,
      "outputs": []
    }
  ]
}