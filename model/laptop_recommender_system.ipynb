{
  "cells": [
    {
      "cell_type": "code",
      "execution_count": 1,
      "metadata": {
        "id": "bR_Ty1lOjoJy"
      },
      "outputs": [],
      "source": [
        "import pandas as pd\n",
        "import numpy as np"
      ]
    },
    {
      "cell_type": "code",
      "execution_count": 2,
      "metadata": {
        "id": "Wq2B83LQzcYB"
      },
      "outputs": [],
      "source": [
        "pd.set_option('display.max_colwidth', None)"
      ]
    },
    {
      "cell_type": "markdown",
      "metadata": {
        "id": "RpsfOoZgwlFg"
      },
      "source": [
        "> Preprocessing\n",
        "\n",
        "# Key Points\n",
        "\n",
        "1. Tags include:\n",
        "  - brand\n",
        "  - processor_brand           \n",
        "  - processor_tier            \n",
        "  - num_cores                   \n",
        "  - ram_memory                  \n",
        "  - primary_storage_type      \n",
        "  - primary_storage_capacity    \n",
        "  - gpu_brand                 \n",
        "  - gpu_type                  \n",
        "  - display_size   \n",
        "2. Price will be used as a filter for the initial preprocessing and will be excluded from the tags. Will add in later stages.        "
      ]
    },
    {
      "cell_type": "code",
      "execution_count": 3,
      "metadata": {
        "id": "52RPnPOkpPh0"
      },
      "outputs": [],
      "source": [
        "laptops = pd.read_csv(\"data.csv\")"
      ]
    },
    {
      "cell_type": "code",
      "execution_count": 4,
      "metadata": {
        "id": "StZfsto7BAbo"
      },
      "outputs": [],
      "source": [
        "laptops.rename(columns={\"Model\": \"model\", \"Price\": \"price\", \"Rating\": \"rating\"}, inplace=True)\n"
      ]
    },
    {
      "cell_type": "code",
      "execution_count": 5,
      "metadata": {
        "id": "062p6BJHBAZi"
      },
      "outputs": [],
      "source": [
        "laptops.drop(columns=[\"secondary_storage_type\"], inplace=True)\n"
      ]
    },
    {
      "cell_type": "code",
      "execution_count": 6,
      "metadata": {
        "id": "YpSZKHakBAXI"
      },
      "outputs": [],
      "source": [
        "laptops.sort_values(by=[\"rating\", \"price\"], ascending=[False, True], inplace=True)"
      ]
    },
    {
      "cell_type": "code",
      "execution_count": 7,
      "metadata": {
        "id": "JMTUn9T0_ole"
      },
      "outputs": [],
      "source": [
        "laptops = laptops.astype(str)"
      ]
    },
    {
      "cell_type": "code",
      "execution_count": 8,
      "metadata": {
        "id": "jT_sFPoDBPu7"
      },
      "outputs": [],
      "source": [
        "laptops[\"tags\"] = laptops[[\"brand\", \"processor_brand\", \"processor_tier\", \"num_cores\", \"ram_memory\", \"primary_storage_type\",\n",
        "                           \"primary_storage_capacity\", \"gpu_brand\", \"gpu_type\", \"display_size\"]].apply(lambda x: ' '.join(x), axis = 1)"
      ]
    },
    {
      "cell_type": "code",
      "execution_count": 9,
      "metadata": {
        "id": "HijYXhRFBPkz"
      },
      "outputs": [],
      "source": [
        "laptops[\"id\"] = laptops.index"
      ]
    },
    {
      "cell_type": "code",
      "execution_count": 10,
      "metadata": {
        "id": "M8FAT8jw_5Dm"
      },
      "outputs": [],
      "source": [
        "new = laptops[[\"id\", \"model\", \"tags\"]]\n",
        "new.index = range(len(new))"
      ]
    },
    {
      "cell_type": "markdown",
      "metadata": {
        "id": "okH-gES_3Egh"
      },
      "source": [
        "> Vectorization"
      ]
    },
    {
      "cell_type": "code",
      "execution_count": 11,
      "metadata": {
        "id": "suF-ecc1Akbc"
      },
      "outputs": [],
      "source": [
        "from sklearn.feature_extraction.text import CountVectorizer\n",
        "cv = CountVectorizer(max_features=5000,stop_words='english')"
      ]
    },
    {
      "cell_type": "code",
      "execution_count": 12,
      "metadata": {
        "id": "vl8A9sBQAuBr"
      },
      "outputs": [],
      "source": [
        "vector = cv.fit_transform(new[\"tags\"]).toarray()"
      ]
    },
    {
      "cell_type": "code",
      "execution_count": 13,
      "metadata": {
        "colab": {
          "base_uri": "https://localhost:8080/"
        },
        "id": "eMnWMxSjBYjb",
        "outputId": "910a87b2-f29e-45c8-c318-817585353aec"
      },
      "outputs": [
        {
          "data": {
            "text/plain": [
              "(991, 65)"
            ]
          },
          "execution_count": 13,
          "metadata": {},
          "output_type": "execute_result"
        }
      ],
      "source": [
        "vector.shape"
      ]
    },
    {
      "cell_type": "code",
      "execution_count": 14,
      "metadata": {
        "id": "odA9s-jNA7dF"
      },
      "outputs": [],
      "source": [
        "from sklearn.metrics.pairwise import cosine_similarity"
      ]
    },
    {
      "cell_type": "code",
      "execution_count": 15,
      "metadata": {
        "id": "4pyXFEMnBcoy"
      },
      "outputs": [],
      "source": [
        "similarity = cosine_similarity(vector)"
      ]
    },
    {
      "cell_type": "code",
      "execution_count": 16,
      "metadata": {
        "colab": {
          "base_uri": "https://localhost:8080/"
        },
        "id": "qoyWFdrSBeXD",
        "outputId": "bd89ebeb-d74a-4597-87cf-3d46ade3a025"
      },
      "outputs": [
        {
          "data": {
            "text/plain": [
              "array([[1.        , 0.46225016, 0.83624201, ..., 0.        , 0.        ,\n",
              "        0.        ],\n",
              "       [0.46225016, 1.        , 0.70352647, ..., 0.        , 0.        ,\n",
              "        0.        ],\n",
              "       [0.83624201, 0.70352647, 1.        , ..., 0.        , 0.        ,\n",
              "        0.        ],\n",
              "       ...,\n",
              "       [0.        , 0.        , 0.        , ..., 1.        , 1.        ,\n",
              "        0.83333333],\n",
              "       [0.        , 0.        , 0.        , ..., 1.        , 1.        ,\n",
              "        0.83333333],\n",
              "       [0.        , 0.        , 0.        , ..., 0.83333333, 0.83333333,\n",
              "        1.        ]])"
            ]
          },
          "execution_count": 16,
          "metadata": {},
          "output_type": "execute_result"
        }
      ],
      "source": [
        "similarity"
      ]
    },
    {
      "cell_type": "code",
      "execution_count": 27,
      "metadata": {
        "id": "NNfbeeuVKp0M"
      },
      "outputs": [
        {
          "name": "stdout",
          "output_type": "stream",
          "text": [
            "Asus Vivobook Pro 16 OLED 2023 K6602VU-LZ952WS Laptop (13th Gen Core i9/ 16GB/ 1TB SSD/ Win11/ 6GB Graph)\n",
            "Asus Vivobook 16X 2023 K3605VC-MB951WS Laptop (13th Gen Core i9/ 16GB/ 1TB SSD/ Win11 Home/ 4GB Graph)\n",
            "Lenovo IdeaPad Pro 5 83AQ005SIN Gaming Laptop (13th Gen Core i7/ 16GB/ 1TB SSD/ Win11/ 6GB Graph)\n",
            "Lenovo Legion Pro 5 16IRX8 82WK00MWIN Gaming Laptop (13th Gen Core i7/ 16GB/ 1TB SSD/ Win11/ 8GB Graph)\n",
            "Asus ROG Zephyrus G16 2023 GU603ZU-N3023WS Laptop (12th Gen Core i7/ 16GB/ 1TB SSD/ Win11 Home/ 6GB Graph)\n"
          ]
        }
      ],
      "source": [
        "def recommend(tags):\n",
        "  new_df = new.copy()\n",
        "  for tag in tags:\n",
        "    filt = new_df[\"tags\"].str.contains(tag)\n",
        "    new_df = new_df[filt]\n",
        "  index = new_df[new_df[\"model\"] == new_df[\"model\"].values[0]].index[0]\n",
        "  distances = sorted(list(enumerate(similarity[index])),reverse=True,key = lambda x: x[1])\n",
        "  for i in distances[1:6]:\n",
        "    print(new.iloc[i[0]].model)\n",
        "\n",
        "recommend([\"core i9\"])"
      ]
    },
    {
      "cell_type": "markdown",
      "metadata": {
        "id": "cLLK-NmwJI9D"
      },
      "source": [
        "> Testing"
      ]
    },
    {
      "cell_type": "code",
      "execution_count": 18,
      "metadata": {
        "id": "ft_d6kIvBD_9"
      },
      "outputs": [],
      "source": [
        "# tags = []"
      ]
    },
    {
      "cell_type": "code",
      "execution_count": 19,
      "metadata": {
        "id": "mbo8aGE_KdeF"
      },
      "outputs": [],
      "source": [
        "tagNames = [\n",
        "    \"brand\",\n",
        "    \"processor_brand\",\n",
        "    \"processor_tier\",\n",
        "    \"num_cores\",\n",
        "    \"ram_memory\",\n",
        "    \"primary_storage_type\",\n",
        "    \"primary_storage_capacity\",\n",
        "    \"gpu_brand\",\n",
        "    \"gpu_type\",\n",
        "    \"display_size\"\n",
        "]\n",
        "\n",
        "# for i in range(10):\n",
        "#   tags.append(input(\"Enter \" + tagNames[i] + \": \").strip())\n",
        "# tags = list(filter(lambda x: bool(len(x)), list(pd.unique(tags))))\n",
        "# recommend(tags)"
      ]
    },
    {
      "cell_type": "markdown",
      "metadata": {
        "id": "cX8XuGus_RAD"
      },
      "source": [
        "> Generating Unique Tags for Front-end Search"
      ]
    },
    {
      "cell_type": "code",
      "execution_count": 20,
      "metadata": {
        "id": "g3pFA1Vq6iFl"
      },
      "outputs": [],
      "source": [
        "# for tag in tagNames:\n",
        "#   with open(tag + \".txt\", \"w\") as f:\n",
        "#     f.write(\"\\n\".join(laptops[tag].unique().tolist()))"
      ]
    }
  ],
  "metadata": {
    "colab": {
      "provenance": []
    },
    "kernelspec": {
      "display_name": "Python 3",
      "name": "python3"
    },
    "language_info": {
      "codemirror_mode": {
        "name": "ipython",
        "version": 3
      },
      "file_extension": ".py",
      "mimetype": "text/x-python",
      "name": "python",
      "nbconvert_exporter": "python",
      "pygments_lexer": "ipython3",
      "version": "3.11.8"
    }
  },
  "nbformat": 4,
  "nbformat_minor": 0
}
